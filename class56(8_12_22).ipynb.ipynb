{
  "nbformat": 4,
  "nbformat_minor": 0,
  "metadata": {
    "colab": {
      "provenance": []
    },
    "kernelspec": {
      "name": "python3",
      "display_name": "Python 3"
    },
    "language_info": {
      "name": "python"
    }
  },
  "cells": [
    {
      "cell_type": "code",
      "execution_count": null,
      "metadata": {
        "id": "hXGS4vUBYApu"
      },
      "outputs": [],
      "source": [
        "import tensorflow as tf\n",
        "\n",
        "class myCallback(tf.keras.callbacks.Callback):\n",
        "  def on_epoch_end(self, epoch, logs={}):\n",
        "    if(logs.get('accuracy')>0.8):\n",
        "      print(\"\\nReached 80% accuracy so cancelling training!\")\n",
        "      self.model.stop_training = True\n",
        "\n",
        "mnist = tf.keras.datasets.fashion_mnist"
      ]
    },
    {
      "cell_type": "code",
      "source": [
        "(x_train, y_train),(x_test, y_test) = mnist.load_data()"
      ],
      "metadata": {
        "colab": {
          "base_uri": "https://localhost:8080/"
        },
        "id": "wH44zH3wYKWb",
        "outputId": "98a5840d-dd13-415e-f6ea-11ac681f0998"
      },
      "execution_count": null,
      "outputs": [
        {
          "output_type": "stream",
          "name": "stdout",
          "text": [
            "Downloading data from https://storage.googleapis.com/tensorflow/tf-keras-datasets/train-labels-idx1-ubyte.gz\n",
            "29515/29515 [==============================] - 0s 0us/step\n",
            "Downloading data from https://storage.googleapis.com/tensorflow/tf-keras-datasets/train-images-idx3-ubyte.gz\n",
            "26421880/26421880 [==============================] - 0s 0us/step\n",
            "Downloading data from https://storage.googleapis.com/tensorflow/tf-keras-datasets/t10k-labels-idx1-ubyte.gz\n",
            "5148/5148 [==============================] - 0s 0us/step\n",
            "Downloading data from https://storage.googleapis.com/tensorflow/tf-keras-datasets/t10k-images-idx3-ubyte.gz\n",
            "4422102/4422102 [==============================] - 0s 0us/step\n"
          ]
        }
      ]
    },
    {
      "cell_type": "code",
      "source": [
        "x_train, x_test = x_train / 255.0, x_test / 255.0"
      ],
      "metadata": {
        "id": "093juNvuYPDJ"
      },
      "execution_count": null,
      "outputs": []
    },
    {
      "cell_type": "code",
      "source": [
        "callbacks = myCallback()"
      ],
      "metadata": {
        "id": "MKcteW4BYUcp"
      },
      "execution_count": null,
      "outputs": []
    },
    {
      "cell_type": "code",
      "source": [
        "model = tf.keras.models.Sequential([\n",
        "    \n",
        "                tf.keras.layers.Flatten(input_shape=(28, 28)),\n",
        "                tf.keras.layers.Dense(512, activation=tf.nn.relu),\n",
        "                tf.keras.layers.Dense(10, activation=tf.nn.softmax)\n",
        "\n",
        "                ])"
      ],
      "metadata": {
        "id": "J2dPhp-TYZMp"
      },
      "execution_count": null,
      "outputs": []
    },
    {
      "cell_type": "code",
      "source": [
        "model"
      ],
      "metadata": {
        "colab": {
          "base_uri": "https://localhost:8080/"
        },
        "id": "1eqX9LukYdqK",
        "outputId": "61235422-8fb5-448b-8f23-9b70884372c8"
      },
      "execution_count": null,
      "outputs": [
        {
          "output_type": "execute_result",
          "data": {
            "text/plain": [
              "<keras.engine.sequential.Sequential at 0x7f9aeb186f10>"
            ]
          },
          "metadata": {},
          "execution_count": 6
        }
      ]
    },
    {
      "cell_type": "code",
      "source": [
        "model.compile(optimizer='adam',loss='sparse_categorical_crossentropy',metrics=['accuracy'])"
      ],
      "metadata": {
        "id": "Y_f5IBb_YhzJ"
      },
      "execution_count": null,
      "outputs": []
    },
    {
      "cell_type": "code",
      "source": [
        "model.fit(x_train, y_train, epochs=10, callbacks=[callbacks])"
      ],
      "metadata": {
        "colab": {
          "base_uri": "https://localhost:8080/"
        },
        "id": "jwoOapmVYnca",
        "outputId": "823cb28c-c1af-4a75-ae1a-3b609487a709"
      },
      "execution_count": null,
      "outputs": [
        {
          "output_type": "stream",
          "name": "stdout",
          "text": [
            "Epoch 1/10\n",
            "1875/1875 [==============================] - ETA: 0s - loss: 0.3606 - accuracy: 0.8680\n",
            "Reached 80% accuracy so cancelling training!\n",
            "1875/1875 [==============================] - 11s 6ms/step - loss: 0.3606 - accuracy: 0.8680\n"
          ]
        },
        {
          "output_type": "execute_result",
          "data": {
            "text/plain": [
              "<keras.callbacks.History at 0x7f9ae21f1c40>"
            ]
          },
          "metadata": {},
          "execution_count": 9
        }
      ]
    },
    {
      "cell_type": "code",
      "source": [
        "model.fit(x_train, y_train, epochs=50, callbacks=[callbacks])"
      ],
      "metadata": {
        "colab": {
          "base_uri": "https://localhost:8080/"
        },
        "id": "U8jD4lWjZ0sq",
        "outputId": "43d7fab6-d1bb-4799-ed85-0443fee4912a"
      },
      "execution_count": null,
      "outputs": [
        {
          "output_type": "stream",
          "name": "stdout",
          "text": [
            "Epoch 1/50\n",
            "1873/1875 [============================>.] - ETA: 0s - loss: 0.3237 - accuracy: 0.8801\n",
            "Reached 80% accuracy so cancelling training!\n",
            "1875/1875 [==============================] - 11s 6ms/step - loss: 0.3235 - accuracy: 0.8802\n"
          ]
        },
        {
          "output_type": "execute_result",
          "data": {
            "text/plain": [
              "<keras.callbacks.History at 0x7f9ae22102b0>"
            ]
          },
          "metadata": {},
          "execution_count": 11
        }
      ]
    },
    {
      "cell_type": "code",
      "source": [
        "model.fit(x_train, y_train, epochs=50)"
      ],
      "metadata": {
        "colab": {
          "base_uri": "https://localhost:8080/"
        },
        "id": "TIMavRx8al-a",
        "outputId": "b58b3e60-f536-4968-c904-c65540f3b152"
      },
      "execution_count": null,
      "outputs": [
        {
          "output_type": "stream",
          "name": "stdout",
          "text": [
            "Epoch 1/50\n",
            "1875/1875 [==============================] - 11s 6ms/step - loss: 0.2996 - accuracy: 0.8885\n",
            "Epoch 2/50\n",
            "1875/1875 [==============================] - 11s 6ms/step - loss: 0.2795 - accuracy: 0.8962\n",
            "Epoch 3/50\n",
            "1875/1875 [==============================] - 11s 6ms/step - loss: 0.2637 - accuracy: 0.9027\n",
            "Epoch 4/50\n",
            "1875/1875 [==============================] - 11s 6ms/step - loss: 0.2493 - accuracy: 0.9076\n",
            "Epoch 5/50\n",
            "1875/1875 [==============================] - 11s 6ms/step - loss: 0.2392 - accuracy: 0.9093\n",
            "Epoch 6/50\n",
            "1875/1875 [==============================] - 11s 6ms/step - loss: 0.2332 - accuracy: 0.9124\n",
            "Epoch 7/50\n",
            "1875/1875 [==============================] - 10s 6ms/step - loss: 0.2218 - accuracy: 0.9160\n",
            "Epoch 8/50\n",
            "1875/1875 [==============================] - 11s 6ms/step - loss: 0.2135 - accuracy: 0.9198\n",
            "Epoch 9/50\n",
            "1875/1875 [==============================] - 11s 6ms/step - loss: 0.2025 - accuracy: 0.9237\n",
            "Epoch 10/50\n",
            "1875/1875 [==============================] - 11s 6ms/step - loss: 0.1959 - accuracy: 0.9260\n",
            "Epoch 11/50\n",
            "1875/1875 [==============================] - 11s 6ms/step - loss: 0.1900 - accuracy: 0.9275\n",
            "Epoch 12/50\n",
            "1875/1875 [==============================] - 11s 6ms/step - loss: 0.1831 - accuracy: 0.9301\n",
            "Epoch 13/50\n",
            "1875/1875 [==============================] - 11s 6ms/step - loss: 0.1789 - accuracy: 0.9321\n",
            "Epoch 14/50\n",
            "1875/1875 [==============================] - 11s 6ms/step - loss: 0.1712 - accuracy: 0.9352\n",
            "Epoch 15/50\n",
            "1875/1875 [==============================] - 11s 6ms/step - loss: 0.1667 - accuracy: 0.9356\n",
            "Epoch 16/50\n",
            "1875/1875 [==============================] - 11s 6ms/step - loss: 0.1647 - accuracy: 0.9383\n",
            "Epoch 17/50\n",
            "1875/1875 [==============================] - 11s 6ms/step - loss: 0.1568 - accuracy: 0.9410\n",
            "Epoch 18/50\n",
            "1875/1875 [==============================] - 11s 6ms/step - loss: 0.1523 - accuracy: 0.9427\n",
            "Epoch 19/50\n",
            "1875/1875 [==============================] - 11s 6ms/step - loss: 0.1498 - accuracy: 0.9438\n",
            "Epoch 20/50\n",
            "1875/1875 [==============================] - 11s 6ms/step - loss: 0.1437 - accuracy: 0.9454\n",
            "Epoch 21/50\n",
            "1875/1875 [==============================] - 11s 6ms/step - loss: 0.1415 - accuracy: 0.9469\n",
            "Epoch 22/50\n",
            "1875/1875 [==============================] - 11s 6ms/step - loss: 0.1369 - accuracy: 0.9491\n",
            "Epoch 23/50\n",
            "1875/1875 [==============================] - 11s 6ms/step - loss: 0.1324 - accuracy: 0.9500\n",
            "Epoch 24/50\n",
            "1875/1875 [==============================] - 11s 6ms/step - loss: 0.1271 - accuracy: 0.9516\n",
            "Epoch 25/50\n",
            "1875/1875 [==============================] - 11s 6ms/step - loss: 0.1274 - accuracy: 0.9523\n",
            "Epoch 26/50\n",
            "1875/1875 [==============================] - 11s 6ms/step - loss: 0.1237 - accuracy: 0.9523\n",
            "Epoch 27/50\n",
            "1875/1875 [==============================] - 11s 6ms/step - loss: 0.1209 - accuracy: 0.9546\n",
            "Epoch 28/50\n",
            "1875/1875 [==============================] - 11s 6ms/step - loss: 0.1154 - accuracy: 0.9559\n",
            "Epoch 29/50\n",
            "1875/1875 [==============================] - 11s 6ms/step - loss: 0.1162 - accuracy: 0.9563\n",
            "Epoch 30/50\n",
            "1875/1875 [==============================] - 13s 7ms/step - loss: 0.1116 - accuracy: 0.9575\n",
            "Epoch 31/50\n",
            "1875/1875 [==============================] - 10s 6ms/step - loss: 0.1103 - accuracy: 0.9588\n",
            "Epoch 32/50\n",
            "1875/1875 [==============================] - 11s 6ms/step - loss: 0.1072 - accuracy: 0.9596\n",
            "Epoch 33/50\n",
            "1875/1875 [==============================] - 11s 6ms/step - loss: 0.1050 - accuracy: 0.9600\n",
            "Epoch 34/50\n",
            "1875/1875 [==============================] - 10s 6ms/step - loss: 0.1031 - accuracy: 0.9611\n",
            "Epoch 35/50\n",
            "1875/1875 [==============================] - 11s 6ms/step - loss: 0.1006 - accuracy: 0.9618\n",
            "Epoch 36/50\n",
            "1875/1875 [==============================] - 11s 6ms/step - loss: 0.0999 - accuracy: 0.9618\n",
            "Epoch 37/50\n",
            "1875/1875 [==============================] - 12s 6ms/step - loss: 0.0975 - accuracy: 0.9634\n",
            "Epoch 38/50\n",
            "1875/1875 [==============================] - 12s 6ms/step - loss: 0.0999 - accuracy: 0.9630\n",
            "Epoch 39/50\n",
            "1875/1875 [==============================] - 12s 7ms/step - loss: 0.0929 - accuracy: 0.9650\n",
            "Epoch 40/50\n",
            "1875/1875 [==============================] - 12s 6ms/step - loss: 0.0909 - accuracy: 0.9658\n",
            "Epoch 41/50\n",
            "1875/1875 [==============================] - 11s 6ms/step - loss: 0.0898 - accuracy: 0.9659\n",
            "Epoch 42/50\n",
            "1875/1875 [==============================] - 11s 6ms/step - loss: 0.0887 - accuracy: 0.9661\n",
            "Epoch 43/50\n",
            "1875/1875 [==============================] - 11s 6ms/step - loss: 0.0879 - accuracy: 0.9671\n",
            "Epoch 44/50\n",
            "1875/1875 [==============================] - 11s 6ms/step - loss: 0.0827 - accuracy: 0.9689\n",
            "Epoch 45/50\n",
            "1875/1875 [==============================] - 11s 6ms/step - loss: 0.0825 - accuracy: 0.9698\n",
            "Epoch 46/50\n",
            "1875/1875 [==============================] - 11s 6ms/step - loss: 0.0832 - accuracy: 0.9683\n",
            "Epoch 47/50\n",
            "1875/1875 [==============================] - 11s 6ms/step - loss: 0.0808 - accuracy: 0.9698\n",
            "Epoch 48/50\n",
            "1875/1875 [==============================] - 11s 6ms/step - loss: 0.0784 - accuracy: 0.9705\n",
            "Epoch 49/50\n",
            "1875/1875 [==============================] - 11s 6ms/step - loss: 0.0755 - accuracy: 0.9714\n",
            "Epoch 50/50\n",
            "1875/1875 [==============================] - 11s 6ms/step - loss: 0.0759 - accuracy: 0.9714\n"
          ]
        },
        {
          "output_type": "execute_result",
          "data": {
            "text/plain": [
              "<keras.callbacks.History at 0x7f9ae2210e20>"
            ]
          },
          "metadata": {},
          "execution_count": 12
        }
      ]
    },
    {
      "cell_type": "code",
      "source": [
        "from keras.datasets import boston_housing\n"
      ],
      "metadata": {
        "id": "lBLUQzKie91q"
      },
      "execution_count": null,
      "outputs": []
    },
    {
      "cell_type": "code",
      "source": [
        "(train_data, train_targets), (test_data, test_targets) =boston_housing.load_data()"
      ],
      "metadata": {
        "colab": {
          "base_uri": "https://localhost:8080/"
        },
        "id": "e6rmbGuLfWlK",
        "outputId": "84e473a0-61cb-471f-b90d-c7ea8e332769"
      },
      "execution_count": null,
      "outputs": [
        {
          "output_type": "stream",
          "name": "stdout",
          "text": [
            "Downloading data from https://storage.googleapis.com/tensorflow/tf-keras-datasets/boston_housing.npz\n",
            "57026/57026 [==============================] - 0s 0us/step\n"
          ]
        }
      ]
    },
    {
      "cell_type": "code",
      "source": [
        " train_data.shape"
      ],
      "metadata": {
        "colab": {
          "base_uri": "https://localhost:8080/"
        },
        "id": "HwZeCs6ifWvK",
        "outputId": "2688b0da-eff6-400f-d3b2-b750bdb42d78"
      },
      "execution_count": null,
      "outputs": [
        {
          "output_type": "execute_result",
          "data": {
            "text/plain": [
              "(404, 13)"
            ]
          },
          "metadata": {},
          "execution_count": 12
        }
      ]
    },
    {
      "cell_type": "code",
      "source": [
        "test_data.shape"
      ],
      "metadata": {
        "colab": {
          "base_uri": "https://localhost:8080/"
        },
        "id": "CKQf_XxFfW8q",
        "outputId": "651052b4-7c12-491b-fbce-5bfe0c5ca365"
      },
      "execution_count": null,
      "outputs": [
        {
          "output_type": "execute_result",
          "data": {
            "text/plain": [
              "(102, 13)"
            ]
          },
          "metadata": {},
          "execution_count": 13
        }
      ]
    },
    {
      "cell_type": "code",
      "source": [
        " train_targets"
      ],
      "metadata": {
        "colab": {
          "base_uri": "https://localhost:8080/"
        },
        "id": "of3sx4_5fteb",
        "outputId": "6fff6728-25d2-4c95-b69f-ddcf0a909d42"
      },
      "execution_count": null,
      "outputs": [
        {
          "output_type": "execute_result",
          "data": {
            "text/plain": [
              "array([15.2, 42.3, 50. , 21.1, 17.7, 18.5, 11.3, 15.6, 15.6, 14.4, 12.1,\n",
              "       17.9, 23.1, 19.9, 15.7,  8.8, 50. , 22.5, 24.1, 27.5, 10.9, 30.8,\n",
              "       32.9, 24. , 18.5, 13.3, 22.9, 34.7, 16.6, 17.5, 22.3, 16.1, 14.9,\n",
              "       23.1, 34.9, 25. , 13.9, 13.1, 20.4, 20. , 15.2, 24.7, 22.2, 16.7,\n",
              "       12.7, 15.6, 18.4, 21. , 30.1, 15.1, 18.7,  9.6, 31.5, 24.8, 19.1,\n",
              "       22. , 14.5, 11. , 32. , 29.4, 20.3, 24.4, 14.6, 19.5, 14.1, 14.3,\n",
              "       15.6, 10.5,  6.3, 19.3, 19.3, 13.4, 36.4, 17.8, 13.5, 16.5,  8.3,\n",
              "       14.3, 16. , 13.4, 28.6, 43.5, 20.2, 22. , 23. , 20.7, 12.5, 48.5,\n",
              "       14.6, 13.4, 23.7, 50. , 21.7, 39.8, 38.7, 22.2, 34.9, 22.5, 31.1,\n",
              "       28.7, 46. , 41.7, 21. , 26.6, 15. , 24.4, 13.3, 21.2, 11.7, 21.7,\n",
              "       19.4, 50. , 22.8, 19.7, 24.7, 36.2, 14.2, 18.9, 18.3, 20.6, 24.6,\n",
              "       18.2,  8.7, 44. , 10.4, 13.2, 21.2, 37. , 30.7, 22.9, 20. , 19.3,\n",
              "       31.7, 32. , 23.1, 18.8, 10.9, 50. , 19.6,  5. , 14.4, 19.8, 13.8,\n",
              "       19.6, 23.9, 24.5, 25. , 19.9, 17.2, 24.6, 13.5, 26.6, 21.4, 11.9,\n",
              "       22.6, 19.6,  8.5, 23.7, 23.1, 22.4, 20.5, 23.6, 18.4, 35.2, 23.1,\n",
              "       27.9, 20.6, 23.7, 28. , 13.6, 27.1, 23.6, 20.6, 18.2, 21.7, 17.1,\n",
              "        8.4, 25.3, 13.8, 22.2, 18.4, 20.7, 31.6, 30.5, 20.3,  8.8, 19.2,\n",
              "       19.4, 23.1, 23. , 14.8, 48.8, 22.6, 33.4, 21.1, 13.6, 32.2, 13.1,\n",
              "       23.4, 18.9, 23.9, 11.8, 23.3, 22.8, 19.6, 16.7, 13.4, 22.2, 20.4,\n",
              "       21.8, 26.4, 14.9, 24.1, 23.8, 12.3, 29.1, 21. , 19.5, 23.3, 23.8,\n",
              "       17.8, 11.5, 21.7, 19.9, 25. , 33.4, 28.5, 21.4, 24.3, 27.5, 33.1,\n",
              "       16.2, 23.3, 48.3, 22.9, 22.8, 13.1, 12.7, 22.6, 15. , 15.3, 10.5,\n",
              "       24. , 18.5, 21.7, 19.5, 33.2, 23.2,  5. , 19.1, 12.7, 22.3, 10.2,\n",
              "       13.9, 16.3, 17. , 20.1, 29.9, 17.2, 37.3, 45.4, 17.8, 23.2, 29. ,\n",
              "       22. , 18. , 17.4, 34.6, 20.1, 25. , 15.6, 24.8, 28.2, 21.2, 21.4,\n",
              "       23.8, 31. , 26.2, 17.4, 37.9, 17.5, 20. ,  8.3, 23.9,  8.4, 13.8,\n",
              "        7.2, 11.7, 17.1, 21.6, 50. , 16.1, 20.4, 20.6, 21.4, 20.6, 36.5,\n",
              "        8.5, 24.8, 10.8, 21.9, 17.3, 18.9, 36.2, 14.9, 18.2, 33.3, 21.8,\n",
              "       19.7, 31.6, 24.8, 19.4, 22.8,  7.5, 44.8, 16.8, 18.7, 50. , 50. ,\n",
              "       19.5, 20.1, 50. , 17.2, 20.8, 19.3, 41.3, 20.4, 20.5, 13.8, 16.5,\n",
              "       23.9, 20.6, 31.5, 23.3, 16.8, 14. , 33.8, 36.1, 12.8, 18.3, 18.7,\n",
              "       19.1, 29. , 30.1, 50. , 50. , 22. , 11.9, 37.6, 50. , 22.7, 20.8,\n",
              "       23.5, 27.9, 50. , 19.3, 23.9, 22.6, 15.2, 21.7, 19.2, 43.8, 20.3,\n",
              "       33.2, 19.9, 22.5, 32.7, 22. , 17.1, 19. , 15. , 16.1, 25.1, 23.7,\n",
              "       28.7, 37.2, 22.6, 16.4, 25. , 29.8, 22.1, 17.4, 18.1, 30.3, 17.5,\n",
              "       24.7, 12.6, 26.5, 28.7, 13.3, 10.4, 24.4, 23. , 20. , 17.8,  7. ,\n",
              "       11.8, 24.4, 13.8, 19.4, 25.2, 19.4, 19.4, 29.1])"
            ]
          },
          "metadata": {},
          "execution_count": 14
        }
      ]
    },
    {
      "cell_type": "code",
      "source": [
        "mean = train_data.mean(axis=0)"
      ],
      "metadata": {
        "id": "HDjt7yfRftoS"
      },
      "execution_count": null,
      "outputs": []
    },
    {
      "cell_type": "code",
      "source": [
        "train_data -= mean"
      ],
      "metadata": {
        "id": "OOQJncmhf0tL"
      },
      "execution_count": null,
      "outputs": []
    },
    {
      "cell_type": "code",
      "source": [
        "std = train_data.std(axis=0)"
      ],
      "metadata": {
        "id": "ACvVTUz9f0wa"
      },
      "execution_count": null,
      "outputs": []
    },
    {
      "cell_type": "code",
      "source": [
        "train_data /= std"
      ],
      "metadata": {
        "id": "cUWpydftf05i"
      },
      "execution_count": null,
      "outputs": []
    },
    {
      "cell_type": "code",
      "source": [
        "test_data -= mean"
      ],
      "metadata": {
        "id": "inwkN2B2f08i"
      },
      "execution_count": null,
      "outputs": []
    },
    {
      "cell_type": "code",
      "source": [
        "test_data /= std"
      ],
      "metadata": {
        "id": "lkj8cSPQf1Fy"
      },
      "execution_count": null,
      "outputs": []
    },
    {
      "cell_type": "code",
      "source": [
        "from keras import models"
      ],
      "metadata": {
        "id": "YxxnJtyuf1L6"
      },
      "execution_count": null,
      "outputs": []
    },
    {
      "cell_type": "code",
      "source": [
        "from keras import models"
      ],
      "metadata": {
        "id": "L0OSbUnXf1PC"
      },
      "execution_count": null,
      "outputs": []
    },
    {
      "cell_type": "code",
      "source": [
        "def build_model():\n",
        "    model = models.Sequential()\n",
        "    model.add(layers.Dense(64, activation='relu',\n",
        "                            input_shape=(train_data.shape[1],)))\n",
        "    model.add(layers.Dense(64, activation='relu'))\n",
        "    model.add(layers.Dense(1))\n",
        "    model.compile(optimizer='rmsprop', loss='mse', metrics=['mae'])\n",
        "    return model"
      ],
      "metadata": {
        "id": "8nosb8trf1RN"
      },
      "execution_count": null,
      "outputs": []
    },
    {
      "cell_type": "code",
      "source": [
        "import numpy as np"
      ],
      "metadata": {
        "id": "uN4H1QkAftyr"
      },
      "execution_count": null,
      "outputs": []
    },
    {
      "cell_type": "code",
      "source": [
        "k=4"
      ],
      "metadata": {
        "id": "VvHybf8Le9lD"
      },
      "execution_count": null,
      "outputs": []
    },
    {
      "cell_type": "code",
      "source": [
        "num_val_samples = len(train_data) // k"
      ],
      "metadata": {
        "id": "wRwCFQxKgxSj"
      },
      "execution_count": null,
      "outputs": []
    },
    {
      "cell_type": "code",
      "source": [
        "num_epochs = 100"
      ],
      "metadata": {
        "id": "kcPQQCcQgxVS"
      },
      "execution_count": null,
      "outputs": []
    },
    {
      "cell_type": "code",
      "source": [
        "all_scores = []"
      ],
      "metadata": {
        "id": "WrSbPMaRgxYC"
      },
      "execution_count": null,
      "outputs": []
    },
    {
      "cell_type": "code",
      "source": [],
      "metadata": {
        "id": "5gdbc6oTiI2q"
      },
      "execution_count": null,
      "outputs": []
    },
    {
      "cell_type": "code",
      "source": [
        "for i in range(k):\n",
        "    print('processing fold #', i)\n",
        "    val_data = train_data[i * num_val_samples: (i + 1) * num_val_samples]\n",
        "    val_targets = train_targets[i * num_val_samples: (i + 1) * num_val_samples]\n",
        "    partial_train_data = np.concatenate(\n",
        "        [train_data[:i * num_val_samples],\n",
        "        train_data[(i + 1) * num_val_samples:]],\n",
        "        axis=0)\n",
        "    partial_train_targets = np.concatenate(\n",
        "        [train_targets[:i * num_val_samples],\n",
        "        train_targets[(i + 1) * num_val_samples:]],\n",
        "        axis=0)\n",
        "  "
      ],
      "metadata": {
        "colab": {
          "base_uri": "https://localhost:8080/"
        },
        "id": "92mG5Tyggxaj",
        "outputId": "eae894f8-6448-45a7-c796-08cc7ae7bc01"
      },
      "execution_count": null,
      "outputs": [
        {
          "output_type": "stream",
          "name": "stdout",
          "text": [
            "processing fold # 0\n",
            "processing fold # 1\n",
            "processing fold # 2\n",
            "processing fold # 3\n"
          ]
        }
      ]
    },
    {
      "cell_type": "code",
      "source": [
        "model = build_model(x_test)"
      ],
      "metadata": {
        "colab": {
          "base_uri": "https://localhost:8080/",
          "height": 165
        },
        "id": "iZtES-ZIgxdK",
        "outputId": "80e23e61-a4e4-44fb-f40e-9004553f0265"
      },
      "execution_count": null,
      "outputs": [
        {
          "output_type": "error",
          "ename": "NameError",
          "evalue": "ignored",
          "traceback": [
            "\u001b[0;31m---------------------------------------------------------------------------\u001b[0m",
            "\u001b[0;31mNameError\u001b[0m                                 Traceback (most recent call last)",
            "\u001b[0;32m<ipython-input-38-8e38c8b2defb>\u001b[0m in \u001b[0;36m<module>\u001b[0;34m\u001b[0m\n\u001b[0;32m----> 1\u001b[0;31m \u001b[0mmodel\u001b[0m \u001b[0;34m=\u001b[0m \u001b[0mbuild_model\u001b[0m\u001b[0;34m(\u001b[0m\u001b[0mx_test\u001b[0m\u001b[0;34m)\u001b[0m\u001b[0;34m\u001b[0m\u001b[0;34m\u001b[0m\u001b[0m\n\u001b[0m",
            "\u001b[0;31mNameError\u001b[0m: name 'x_test' is not defined"
          ]
        }
      ]
    },
    {
      "cell_type": "code",
      "source": [],
      "metadata": {
        "id": "D2x8q1jIgx3s"
      },
      "execution_count": null,
      "outputs": []
    },
    {
      "cell_type": "code",
      "source": [],
      "metadata": {
        "id": "ssoL0IaZenNJ"
      },
      "execution_count": null,
      "outputs": []
    }
  ]
}