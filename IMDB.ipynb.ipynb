{
  "nbformat": 4,
  "nbformat_minor": 0,
  "metadata": {
    "colab": {
      "provenance": []
    },
    "kernelspec": {
      "name": "python3",
      "display_name": "Python 3"
    },
    "language_info": {
      "name": "python"
    }
  },
  "cells": [
    {
      "cell_type": "code",
      "source": [
        "from google.colab import drive\n",
        "drive.mount('/content/drive')"
      ],
      "metadata": {
        "id": "6Va5FZMeHNCz"
      },
      "execution_count": null,
      "outputs": []
    },
    {
      "cell_type": "code",
      "execution_count": null,
      "metadata": {
        "id": "VPH4cwi8DzHX"
      },
      "outputs": [],
      "source": [
        "from keras.datasets import imdb\n",
        "(train_data, train_labels), (test_data, test_labels) = imdb.load_data(\n",
        "num_words=10000)"
      ]
    },
    {
      "cell_type": "code",
      "source": [
        "train_data[0]"
      ],
      "metadata": {
        "colab": {
          "base_uri": "https://localhost:8080/"
        },
        "id": "GfW_VkoeD7Wl",
        "outputId": "0c2b72bc-769f-4b6e-8f4a-c7b8640041e1"
      },
      "execution_count": null,
      "outputs": [
        {
          "output_type": "execute_result",
          "data": {
            "text/plain": [
              "[1,\n",
              " 14,\n",
              " 22,\n",
              " 16,\n",
              " 43,\n",
              " 530,\n",
              " 973,\n",
              " 1622,\n",
              " 1385,\n",
              " 65,\n",
              " 458,\n",
              " 4468,\n",
              " 66,\n",
              " 3941,\n",
              " 4,\n",
              " 173,\n",
              " 36,\n",
              " 256,\n",
              " 5,\n",
              " 25,\n",
              " 100,\n",
              " 43,\n",
              " 838,\n",
              " 112,\n",
              " 50,\n",
              " 670,\n",
              " 2,\n",
              " 9,\n",
              " 35,\n",
              " 480,\n",
              " 284,\n",
              " 5,\n",
              " 150,\n",
              " 4,\n",
              " 172,\n",
              " 112,\n",
              " 167,\n",
              " 2,\n",
              " 336,\n",
              " 385,\n",
              " 39,\n",
              " 4,\n",
              " 172,\n",
              " 4536,\n",
              " 1111,\n",
              " 17,\n",
              " 546,\n",
              " 38,\n",
              " 13,\n",
              " 447,\n",
              " 4,\n",
              " 192,\n",
              " 50,\n",
              " 16,\n",
              " 6,\n",
              " 147,\n",
              " 2025,\n",
              " 19,\n",
              " 14,\n",
              " 22,\n",
              " 4,\n",
              " 1920,\n",
              " 4613,\n",
              " 469,\n",
              " 4,\n",
              " 22,\n",
              " 71,\n",
              " 87,\n",
              " 12,\n",
              " 16,\n",
              " 43,\n",
              " 530,\n",
              " 38,\n",
              " 76,\n",
              " 15,\n",
              " 13,\n",
              " 1247,\n",
              " 4,\n",
              " 22,\n",
              " 17,\n",
              " 515,\n",
              " 17,\n",
              " 12,\n",
              " 16,\n",
              " 626,\n",
              " 18,\n",
              " 2,\n",
              " 5,\n",
              " 62,\n",
              " 386,\n",
              " 12,\n",
              " 8,\n",
              " 316,\n",
              " 8,\n",
              " 106,\n",
              " 5,\n",
              " 4,\n",
              " 2223,\n",
              " 5244,\n",
              " 16,\n",
              " 480,\n",
              " 66,\n",
              " 3785,\n",
              " 33,\n",
              " 4,\n",
              " 130,\n",
              " 12,\n",
              " 16,\n",
              " 38,\n",
              " 619,\n",
              " 5,\n",
              " 25,\n",
              " 124,\n",
              " 51,\n",
              " 36,\n",
              " 135,\n",
              " 48,\n",
              " 25,\n",
              " 1415,\n",
              " 33,\n",
              " 6,\n",
              " 22,\n",
              " 12,\n",
              " 215,\n",
              " 28,\n",
              " 77,\n",
              " 52,\n",
              " 5,\n",
              " 14,\n",
              " 407,\n",
              " 16,\n",
              " 82,\n",
              " 2,\n",
              " 8,\n",
              " 4,\n",
              " 107,\n",
              " 117,\n",
              " 5952,\n",
              " 15,\n",
              " 256,\n",
              " 4,\n",
              " 2,\n",
              " 7,\n",
              " 3766,\n",
              " 5,\n",
              " 723,\n",
              " 36,\n",
              " 71,\n",
              " 43,\n",
              " 530,\n",
              " 476,\n",
              " 26,\n",
              " 400,\n",
              " 317,\n",
              " 46,\n",
              " 7,\n",
              " 4,\n",
              " 2,\n",
              " 1029,\n",
              " 13,\n",
              " 104,\n",
              " 88,\n",
              " 4,\n",
              " 381,\n",
              " 15,\n",
              " 297,\n",
              " 98,\n",
              " 32,\n",
              " 2071,\n",
              " 56,\n",
              " 26,\n",
              " 141,\n",
              " 6,\n",
              " 194,\n",
              " 7486,\n",
              " 18,\n",
              " 4,\n",
              " 226,\n",
              " 22,\n",
              " 21,\n",
              " 134,\n",
              " 476,\n",
              " 26,\n",
              " 480,\n",
              " 5,\n",
              " 144,\n",
              " 30,\n",
              " 5535,\n",
              " 18,\n",
              " 51,\n",
              " 36,\n",
              " 28,\n",
              " 224,\n",
              " 92,\n",
              " 25,\n",
              " 104,\n",
              " 4,\n",
              " 226,\n",
              " 65,\n",
              " 16,\n",
              " 38,\n",
              " 1334,\n",
              " 88,\n",
              " 12,\n",
              " 16,\n",
              " 283,\n",
              " 5,\n",
              " 16,\n",
              " 4472,\n",
              " 113,\n",
              " 103,\n",
              " 32,\n",
              " 15,\n",
              " 16,\n",
              " 5345,\n",
              " 19,\n",
              " 178,\n",
              " 32]"
            ]
          },
          "metadata": {},
          "execution_count": 3
        }
      ]
    },
    {
      "cell_type": "code",
      "source": [
        "word_index = imdb.get_word_index()\n",
        "reverse_word_index = dict(\n",
        "[(value, key) for (key, value) in word_index.items()])\n",
        "decoded_review = ' '.join(\n",
        "[reverse_word_index.get(i - 3, '?') for i in train_data[0]])"
      ],
      "metadata": {
        "id": "mCDAuPr1D7fc"
      },
      "execution_count": null,
      "outputs": []
    },
    {
      "cell_type": "code",
      "source": [
        "import numpy as np\n",
        "\n",
        "def vectorize_sequences(sequences, dimension=10000):\n",
        "    results = np.zeros((len(sequences), dimension))\n",
        "    for i, sequence in enumerate(sequences):\n",
        "        results[i, sequence] = 1\n",
        "    return results\n",
        "x_train = vectorize_sequences(train_data)\n",
        "x_test = vectorize_sequences(test_data)"
      ],
      "metadata": {
        "id": "IokA78S-D7iE"
      },
      "execution_count": null,
      "outputs": []
    },
    {
      "cell_type": "code",
      "source": [
        "y_train = np.asarray(train_labels).astype('float32')\n",
        "y_test = np.asarray(test_labels).astype('float32')"
      ],
      "metadata": {
        "id": "uyBjXw1tD7kr"
      },
      "execution_count": null,
      "outputs": []
    },
    {
      "cell_type": "code",
      "source": [
        "from keras import models\n",
        "from keras import layers\n",
        "model = models.Sequential()\n",
        "model.add(layers.Dense(64, activation='tanh', input_shape=(10000,)))\n",
        "model.add(layers.Dense(64, activation='tanh'))\n",
        "model.add(layers.Dense(1, activation='sigmoid'))"
      ],
      "metadata": {
        "id": "XkWE7QuoD7nE"
      },
      "execution_count": null,
      "outputs": []
    },
    {
      "cell_type": "code",
      "source": [
        "model.compile(optimizer='rmsprop',loss='binary_crossentropy',metrics=['accuracy'])"
      ],
      "metadata": {
        "id": "8iXlR0VzD7pW"
      },
      "execution_count": null,
      "outputs": []
    },
    {
      "cell_type": "code",
      "source": [
        "#Configuring the optimizer\n",
        "from keras import optimizers\n",
        "model.compile(optimizer=optimizers.RMSprop(lr=0.001),loss='binary_crossentropy',metrics=['accuracy'])"
      ],
      "metadata": {
        "id": "HWjrPEBfD7r9",
        "colab": {
          "base_uri": "https://localhost:8080/"
        },
        "outputId": "7cbf472d-0038-4ac8-b6b1-8aafe30d3043"
      },
      "execution_count": null,
      "outputs": [
        {
          "output_type": "stream",
          "name": "stderr",
          "text": [
            "/usr/local/lib/python3.8/dist-packages/keras/optimizers/optimizer_v2/rmsprop.py:135: UserWarning: The `lr` argument is deprecated, use `learning_rate` instead.\n",
            "  super(RMSprop, self).__init__(name, **kwargs)\n"
          ]
        }
      ]
    },
    {
      "cell_type": "code",
      "source": [
        "#Using custom losses and metrics\n",
        "from keras import losses\n",
        "from keras import metrics\n",
        "model.compile(optimizer=optimizers.RMSprop(lr=0.001),loss=losses.mse,metrics=[metrics.binary_accuracy])"
      ],
      "metadata": {
        "id": "_b4BUw_WD7uU"
      },
      "execution_count": null,
      "outputs": []
    },
    {
      "cell_type": "code",
      "source": [],
      "metadata": {
        "id": "EnBPiZERIVir"
      },
      "execution_count": null,
      "outputs": []
    },
    {
      "cell_type": "code",
      "source": [
        "x_val = x_train[:10000]\n",
        "partial_x_train = x_train[10000:]\n",
        "# Setting aside a validation set\n",
        "y_val = y_train[:10000]\n",
        "partial_y_train = y_train[10000:]\n",
        "#Training your model\n",
        "model.compile(optimizer='rmsprop',loss='mse',metrics=['acc'])\n",
        "history = model.fit(partial_x_train,partial_y_train,epochs=20,batch_size=512,validation_data=(x_val, y_val))"
      ],
      "metadata": {
        "colab": {
          "base_uri": "https://localhost:8080/"
        },
        "id": "NaR6YtgyFRGN",
        "outputId": "06f32966-d287-4c39-ba82-3e4f775c3af3"
      },
      "execution_count": null,
      "outputs": [
        {
          "output_type": "stream",
          "name": "stdout",
          "text": [
            "Epoch 1/20\n",
            "30/30 [==============================] - 3s 71ms/step - loss: 0.1524 - acc: 0.7791 - val_loss: 0.1136 - val_acc: 0.8448\n",
            "Epoch 2/20\n",
            "30/30 [==============================] - 2s 57ms/step - loss: 0.0699 - acc: 0.9099 - val_loss: 0.0854 - val_acc: 0.8843\n",
            "Epoch 3/20\n",
            "30/30 [==============================] - 2s 59ms/step - loss: 0.0515 - acc: 0.9338 - val_loss: 0.0848 - val_acc: 0.8867\n",
            "Epoch 4/20\n",
            "30/30 [==============================] - 2s 58ms/step - loss: 0.0387 - acc: 0.9507 - val_loss: 0.0910 - val_acc: 0.8828\n",
            "Epoch 5/20\n",
            "30/30 [==============================] - 2s 57ms/step - loss: 0.0338 - acc: 0.9585 - val_loss: 0.0964 - val_acc: 0.8786\n",
            "Epoch 6/20\n",
            "30/30 [==============================] - 2s 57ms/step - loss: 0.0270 - acc: 0.9673 - val_loss: 0.1017 - val_acc: 0.8738\n",
            "Epoch 7/20\n",
            "30/30 [==============================] - 2s 57ms/step - loss: 0.0232 - acc: 0.9719 - val_loss: 0.1025 - val_acc: 0.8791\n",
            "Epoch 8/20\n",
            "30/30 [==============================] - 2s 58ms/step - loss: 0.0194 - acc: 0.9768 - val_loss: 0.1088 - val_acc: 0.8702\n",
            "Epoch 9/20\n",
            "30/30 [==============================] - 2s 56ms/step - loss: 0.0169 - acc: 0.9807 - val_loss: 0.1093 - val_acc: 0.8717\n",
            "Epoch 10/20\n",
            "30/30 [==============================] - 2s 56ms/step - loss: 0.0160 - acc: 0.9820 - val_loss: 0.1114 - val_acc: 0.8712\n",
            "Epoch 11/20\n",
            "30/30 [==============================] - 2s 56ms/step - loss: 0.0151 - acc: 0.9835 - val_loss: 0.1132 - val_acc: 0.8718\n",
            "Epoch 12/20\n",
            "30/30 [==============================] - 2s 77ms/step - loss: 0.0141 - acc: 0.9837 - val_loss: 0.1125 - val_acc: 0.8728\n",
            "Epoch 13/20\n",
            "30/30 [==============================] - 2s 57ms/step - loss: 0.0071 - acc: 0.9932 - val_loss: 0.1162 - val_acc: 0.8693\n",
            "Epoch 14/20\n",
            "30/30 [==============================] - 2s 57ms/step - loss: 0.0140 - acc: 0.9839 - val_loss: 0.1143 - val_acc: 0.8718\n",
            "Epoch 15/20\n",
            "30/30 [==============================] - 2s 57ms/step - loss: 0.0064 - acc: 0.9937 - val_loss: 0.1290 - val_acc: 0.8585\n",
            "Epoch 16/20\n",
            "30/30 [==============================] - 2s 57ms/step - loss: 0.0127 - acc: 0.9862 - val_loss: 0.1187 - val_acc: 0.8669\n",
            "Epoch 17/20\n",
            "30/30 [==============================] - 2s 57ms/step - loss: 0.0060 - acc: 0.9940 - val_loss: 0.1192 - val_acc: 0.8673\n",
            "Epoch 18/20\n",
            "30/30 [==============================] - 2s 57ms/step - loss: 0.0059 - acc: 0.9941 - val_loss: 0.1208 - val_acc: 0.8665\n",
            "Epoch 19/20\n",
            "30/30 [==============================] - 2s 56ms/step - loss: 0.0144 - acc: 0.9842 - val_loss: 0.1204 - val_acc: 0.8673\n",
            "Epoch 20/20\n",
            "30/30 [==============================] - 2s 57ms/step - loss: 0.0058 - acc: 0.9942 - val_loss: 0.1211 - val_acc: 0.8682\n"
          ]
        }
      ]
    },
    {
      "cell_type": "code",
      "source": [
        "import matplotlib.pyplot as plt\n",
        "history_dict = history.history\n",
        "loss_values = history_dict['loss']\n",
        "val_loss_values = history_dict['val_loss']\n",
        "epochs = range(1, len(history_dict['acc']) + 1)\n",
        "plt.plot(epochs, loss_values, 'bo', label='Training loss')\n",
        "plt.plot(epochs, val_loss_values, 'b', label='Validation loss')\n",
        "plt.title('Training and validation loss')\n",
        "plt.xlabel('Epochs')\n",
        "plt.ylabel('Loss')\n",
        "plt.legend()\n",
        "plt.show()"
      ],
      "metadata": {
        "id": "2tgTs68tFRI8",
        "colab": {
          "base_uri": "https://localhost:8080/",
          "height": 295
        },
        "outputId": "20f364cb-3367-4c28-b8d0-36cc63ff98e1"
      },
      "execution_count": null,
      "outputs": [
        {
          "output_type": "display_data",
          "data": {
            "text/plain": [
              "<Figure size 432x288 with 1 Axes>"
            ],
            "image/png": "[encoded data removed]"
          },
          "metadata": {
            "needs_background": "light"
          }
        }
      ]
    },
    {
      "cell_type": "code",
      "source": [
        "plt.clf()\n",
        "acc_values = history_dict['acc']\n",
        "val_acc_values = history_dict['val_acc']\n",
        "plt.plot(epochs, acc_values, 'bo', label='Training acc')\n",
        "plt.plot(epochs, val_acc_values, 'b', label='Validation acc')\n",
        "plt.title('Training and validation accuracy')\n",
        "plt.xlabel('Epochs')\n",
        "plt.ylabel('Loss')\n",
        "plt.legend()\n",
        "plt.show()"
      ],
      "metadata": {
        "colab": {
          "base_uri": "https://localhost:8080/",
          "height": 295
        },
        "id": "Piy37lDRFRMe",
        "outputId": "7069b02d-5a7a-444a-e0fa-00945b8d7964"
      },
      "execution_count": null,
      "outputs": [
        {
          "output_type": "display_data",
          "data": {
            "text/plain": [
              "<Figure size 432x288 with 1 Axes>"
            ],
            "image/png": "[encoded data removed]"
          },
          "metadata": {
            "needs_background": "light"
          }
        }
      ]
    },
    {
      "cell_type": "code",
      "source": [
        "#Retraining a model from scratch\n",
        "model = models.Sequential()\n",
        "model.add(layers.Dense(8, activation='relu', input_shape=(10000,)))\n",
        "model.add(layers.Dense(8, activation='relu'))\n",
        "model.add(layers.Dense(1, activation='sigmoid'))\n",
        "model.compile(optimizer='rmsprop',\n",
        "loss='binary_crossentropy',\n",
        "metrics=['accuracy'])\n",
        "model.fit(x_train, y_train, epochs=3, batch_size=512)\n",
        "results = model.evaluate(x_test, y_test)"
      ],
      "metadata": {
        "colab": {
          "base_uri": "https://localhost:8080/"
        },
        "id": "HVlw-8RrFRRU",
        "outputId": "de0e5672-d7f2-464b-aa5a-555de2024940"
      },
      "execution_count": null,
      "outputs": [
        {
          "output_type": "stream",
          "name": "stdout",
          "text": [
            "Epoch 1/3\n",
            "49/49 [==============================] - 2s 25ms/step - loss: 0.4763 - accuracy: 0.8200\n",
            "Epoch 2/3\n",
            "49/49 [==============================] - 1s 26ms/step - loss: 0.2846 - accuracy: 0.9074\n",
            "Epoch 3/3\n",
            "49/49 [==============================] - 1s 25ms/step - loss: 0.2197 - accuracy: 0.9242\n",
            "782/782 [==============================] - 2s 2ms/step - loss: 0.2784 - accuracy: 0.8909\n"
          ]
        }
      ]
    },
    {
      "cell_type": "code",
      "source": [],
      "metadata": {
        "id": "ET_tLrrmLng2"
      },
      "execution_count": null,
      "outputs": []
    },
    {
      "cell_type": "code",
      "source": [
        "results"
      ],
      "metadata": {
        "colab": {
          "base_uri": "https://localhost:8080/"
        },
        "id": "RL2VopQeFrL1",
        "outputId": "6ba80fa3-f53d-43c4-a967-0e5259b83c45"
      },
      "execution_count": null,
      "outputs": [
        {
          "output_type": "execute_result",
          "data": {
            "text/plain": [
              "[0.2783517837524414, 0.8908799886703491]"
            ]
          },
          "metadata": {},
          "execution_count": 16
        }
      ]
    },
    {
      "cell_type": "code",
      "source": [
        "model.predict(x_test)"
      ],
      "metadata": {
        "colab": {
          "base_uri": "https://localhost:8080/"
        },
        "id": "AquaUfgBFrOO",
        "outputId": "367f1b00-fa9e-453f-888f-ba33b0763880"
      },
      "execution_count": null,
      "outputs": [
        {
          "output_type": "stream",
          "name": "stdout",
          "text": [
            "782/782 [==============================] - 2s 2ms/step\n"
          ]
        },
        {
          "output_type": "execute_result",
          "data": {
            "text/plain": [
              "array([[0.30221263],\n",
              "       [0.9988634 ],\n",
              "       [0.8796822 ],\n",
              "       ...,\n",
              "       [0.10346469],\n",
              "       [0.14342326],\n",
              "       [0.48297468]], dtype=float32)"
            ]
          },
          "metadata": {},
          "execution_count": 17
        }
      ]
    },
    {
      "cell_type": "code",
      "source": [
        "import tensorflow as tf\n",
        "class myCallBack (tf.keras.callbacks.Callback):\n",
        "  def on_epoch_end (self,epoch,lgs={}):\n",
        "    if (logs.get('accuracy')>0.8):\n",
        "      print(\"\\nReached 80% accuracy so calling out training!\")\n",
        "      self.model.stop_training = True\n",
        "    \n"
      ],
      "metadata": {
        "id": "Y-Oh_NROFrUN"
      },
      "execution_count": null,
      "outputs": []
    },
    {
      "cell_type": "code",
      "source": [
        "reviews= tf.keras.datasets.imdb"
      ],
      "metadata": {
        "id": "k_GwV2i_FrW2"
      },
      "execution_count": null,
      "outputs": []
    },
    {
      "cell_type": "code",
      "source": [
        "reviews"
      ],
      "metadata": {
        "colab": {
          "base_uri": "https://localhost:8080/"
        },
        "id": "to6B3-7_NWpD",
        "outputId": "5b8bc021-b291-4c27-abbf-a4145a99b050"
      },
      "execution_count": null,
      "outputs": [
        {
          "output_type": "execute_result",
          "data": {
            "text/plain": [
              "<module 'keras.api._v2.keras.datasets.imdb' from '/usr/local/lib/python3.8/dist-packages/keras/api/_v2/keras/datasets/imdb/__init__.py'>"
            ]
          },
          "metadata": {},
          "execution_count": 24
        }
      ]
    },
    {
      "cell_type": "code",
      "source": [
        "model = models.Sequential()\n",
        "model.add(layers.Dense(4, activation='relu', input_shape=(10000,)))\n",
        "model.add(layers.Dense(4, activation='relu'))\n",
        "model.add(layers.Dense(1, activation='sigmoid'))"
      ],
      "metadata": {
        "id": "qk7ruLytNeVj"
      },
      "execution_count": null,
      "outputs": []
    },
    {
      "cell_type": "code",
      "source": [
        "model.compile(optimizer='rmsprop',loss='binary_crossentropy',metrics=['accuracy'])"
      ],
      "metadata": {
        "id": "X19RFr5k-y0f"
      },
      "execution_count": null,
      "outputs": []
    },
    {
      "cell_type": "code",
      "source": [
        "from keras import optimizers\n",
        "model.compile(optimizer=optimizers.RMSprop(lr=0.001),loss='binary_crossentropy',metrics=['accuracy'])"
      ],
      "metadata": {
        "id": "b6JeBaVu-zD9"
      },
      "execution_count": null,
      "outputs": []
    },
    {
      "cell_type": "code",
      "source": [
        "from keras import losses\n",
        "from keras import metrics\n",
        "model.compile(optimizer=optimizers.RMSprop(lr=0.001),loss=losses.mse,metrics=[metrics.binary_accuracy])"
      ],
      "metadata": {
        "id": "5NY2GWVq-zRW"
      },
      "execution_count": null,
      "outputs": []
    },
    {
      "cell_type": "code",
      "source": [
        "x_val = x_train[:10000]\n",
        "partial_x_train = x_train[10000:]\n",
        "# Setting aside a validation set\n",
        "y_val = y_train[:10000]\n",
        "partial_y_train = y_train[10000:]\n",
        "#Training your model\n",
        "model.compile(optimizer='rmsprop',loss='mse',metrics=['acc'])\n",
        "history = model.fit(partial_x_train,partial_y_train,epochs=4,batch_size=512,validation_data=(x_val, y_val))"
      ],
      "metadata": {
        "colab": {
          "base_uri": "https://localhost:8080/"
        },
        "id": "TCdUta2S_FhP",
        "outputId": "48eb9683-5685-4e0c-ef02-9a3900d62579"
      },
      "execution_count": null,
      "outputs": [
        {
          "output_type": "stream",
          "name": "stdout",
          "text": [
            "Epoch 1/4\n",
            "30/30 [==============================] - 2s 45ms/step - loss: 0.2251 - acc: 0.6252 - val_loss: 0.2100 - val_acc: 0.7183\n",
            "Epoch 2/4\n",
            "30/30 [==============================] - 1s 31ms/step - loss: 0.1946 - acc: 0.7606 - val_loss: 0.1897 - val_acc: 0.8163\n",
            "Epoch 3/4\n",
            "30/30 [==============================] - 1s 30ms/step - loss: 0.1725 - acc: 0.8357 - val_loss: 0.1742 - val_acc: 0.8251\n",
            "Epoch 4/4\n",
            "30/30 [==============================] - 1s 30ms/step - loss: 0.1569 - acc: 0.8752 - val_loss: 0.1647 - val_acc: 0.8354\n"
          ]
        }
      ]
    },
    {
      "cell_type": "code",
      "source": [
        "import matplotlib.pyplot as plt\n",
        "history_dict = history.history\n",
        "loss_values = history_dict['loss']\n",
        "val_loss_values = history_dict['val_loss']\n",
        "epochs = range(1, len(history_dict['acc']) + 1)\n",
        "plt.plot(epochs, loss_values, 'bo', label='Training loss')\n",
        "plt.plot(epochs, val_loss_values, 'b', label='Validation loss')\n",
        "plt.title('Training and validation loss')\n",
        "plt.xlabel('Epochs')\n",
        "plt.ylabel('Loss')\n",
        "plt.legend()\n",
        "plt.show()"
      ],
      "metadata": {
        "colab": {
          "base_uri": "https://localhost:8080/",
          "height": 295
        },
        "id": "U9cV2s2Z_Fj1",
        "outputId": "228ec951-2cc9-4186-91b6-2890e1b41d14"
      },
      "execution_count": null,
      "outputs": [
        {
          "output_type": "display_data",
          "data": {
            "text/plain": [
              "<Figure size 432x288 with 1 Axes>"
            ],
            "image/png": "[encoded data removed]"
          },
          "metadata": {
            "needs_background": "light"
          }
        }
      ]
    },
    {
      "cell_type": "code",
      "source": [
        "plt.clf()\n",
        "acc_values = history_dict['acc']\n",
        "val_acc_values = history_dict['val_acc']\n",
        "plt.plot(epochs, acc_values, 'bo', label='Training acc')\n",
        "plt.plot(epochs, val_acc_values, 'b', label='Validation acc')\n",
        "plt.title('Training and validation accuracy')\n",
        "plt.xlabel('Epochs')\n",
        "plt.ylabel('Loss')\n",
        "plt.legend()\n",
        "plt.show()"
      ],
      "metadata": {
        "colab": {
          "base_uri": "https://localhost:8080/",
          "height": 295
        },
        "id": "WBN9bgtM_FmN",
        "outputId": "c69fb5b1-7530-4122-c8e0-3e46d9f1416f"
      },
      "execution_count": null,
      "outputs": [
        {
          "output_type": "display_data",
          "data": {
            "text/plain": [
              "<Figure size 432x288 with 1 Axes>"
            ],
            "image/png": "[encoded data removed]"
          },
          "metadata": {
            "needs_background": "light"
          }
        }
      ]
    },
    {
      "cell_type": "code",
      "source": [
        "from keras import regularizers\n",
        "model = models.Sequential()\n",
        "model.add(layers.Dense(16, kernel_regularizer=regularizers.l2(0.001),\n",
        "activation='relu', input_shape=(10000,)))\n",
        "model.add(layers.Dense(16, kernel_regularizer=regularizers.l2(0.001),\n",
        "activation='relu'))\n",
        "model.add(layers.Dense(1, activation='sigmoid'))"
      ],
      "metadata": {
        "id": "Y8nD5nxd_Fot"
      },
      "execution_count": null,
      "outputs": []
    },
    {
      "cell_type": "code",
      "source": [
        "model.compile(optimizer='rmsprop',loss='binary_crossentropy',metrics=['accuracy'])"
      ],
      "metadata": {
        "id": "spOvhuJC_FrF"
      },
      "execution_count": null,
      "outputs": []
    },
    {
      "cell_type": "code",
      "source": [
        "from keras import optimizers\n",
        "model.compile(optimizer=optimizers.RMSprop(lr=0.001),loss='binary_crossentropy',metrics=['accuracy'])"
      ],
      "metadata": {
        "id": "Yeij8qJ7_FtI"
      },
      "execution_count": null,
      "outputs": []
    },
    {
      "cell_type": "code",
      "source": [
        "from keras import losses\n",
        "from keras import metrics\n",
        "model.compile(optimizer=optimizers.RMSprop(lr=0.001),loss=losses.mse,metrics=[metrics.binary_accuracy])"
      ],
      "metadata": {
        "id": "U-A6afTy_Fvl"
      },
      "execution_count": null,
      "outputs": []
    },
    {
      "cell_type": "code",
      "source": [
        "x_val = x_train[:10000]\n",
        "partial_x_train = x_train[10000:]\n",
        "# Setting aside a validation set\n",
        "y_val = y_train[:10000]\n",
        "partial_y_train = y_train[10000:]\n",
        "#Training your model\n",
        "model.compile(optimizer='rmsprop',loss='mse',metrics=['acc'])\n",
        "history = model.fit(partial_x_train,partial_y_train,epochs=4,batch_size=512,validation_data=(x_val, y_val))"
      ],
      "metadata": {
        "colab": {
          "base_uri": "https://localhost:8080/"
        },
        "id": "ZeggUB3pEp_d",
        "outputId": "94eb4b70-14b6-4b14-f7f4-e6ba1d897844"
      },
      "execution_count": null,
      "outputs": [
        {
          "output_type": "stream",
          "name": "stdout",
          "text": [
            "Epoch 1/4\n",
            "30/30 [==============================] - 3s 68ms/step - loss: 0.2066 - acc: 0.7747 - val_loss: 0.1531 - val_acc: 0.8659\n",
            "Epoch 2/4\n",
            "30/30 [==============================] - 1s 36ms/step - loss: 0.1261 - acc: 0.8967 - val_loss: 0.1264 - val_acc: 0.8862\n",
            "Epoch 3/4\n",
            "30/30 [==============================] - 1s 35ms/step - loss: 0.1045 - acc: 0.9179 - val_loss: 0.1311 - val_acc: 0.8622\n",
            "Epoch 4/4\n",
            "30/30 [==============================] - 1s 35ms/step - loss: 0.0944 - acc: 0.9299 - val_loss: 0.1230 - val_acc: 0.8753\n"
          ]
        }
      ]
    },
    {
      "cell_type": "code",
      "source": [
        "import matplotlib.pyplot as plt\n",
        "history_dict = history.history\n",
        "loss_values = history_dict['loss']\n",
        "val_loss_values = history_dict['val_loss']\n",
        "epochs = range(1, len(history_dict['acc']) + 1)\n",
        "plt.plot(epochs, loss_values, 'bo', label='Training loss')\n",
        "plt.plot(epochs, val_loss_values, 'b', label='Validation loss')\n",
        "plt.title('Training and validation loss')\n",
        "plt.xlabel('Epochs')\n",
        "plt.ylabel('Loss')\n",
        "plt.legend()\n",
        "plt.show()"
      ],
      "metadata": {
        "colab": {
          "base_uri": "https://localhost:8080/",
          "height": 295
        },
        "id": "u46KeS80EqCE",
        "outputId": "99e934c3-5d23-4175-ed23-a23e6c4c7483"
      },
      "execution_count": null,
      "outputs": [
        {
          "output_type": "display_data",
          "data": {
            "text/plain": [
              "<Figure size 432x288 with 1 Axes>"
            ],
            "image/png": "[encoded data removed]"
          },
          "metadata": {
            "needs_background": "light"
          }
        }
      ]
    },
    {
      "cell_type": "code",
      "source": [],
      "metadata": {
        "id": "o2ve2o1MEqEj"
      },
      "execution_count": null,
      "outputs": []
    },
    {
      "cell_type": "code",
      "source": [],
      "metadata": {
        "id": "Wxu2JJx5EqJD"
      },
      "execution_count": null,
      "outputs": []
    }
  ]
}